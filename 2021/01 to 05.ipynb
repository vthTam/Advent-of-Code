{
 "cells": [
  {
   "cell_type": "code",
   "execution_count": 1,
   "id": "e61aa3ba",
   "metadata": {},
   "outputs": [
    {
     "name": "stdout",
     "output_type": "stream",
     "text": [
      "1944 x 954969 = 1856459736\n"
     ]
    }
   ],
   "source": [
    "data2 = open('advent2_data.txt', 'r').read().split('\\n')\n",
    "horizon = 0\n",
    "depth = 0\n",
    "aim = 0\n",
    "for n in range(len(data2)):\n",
    "    direction = data2[n].split()[0]\n",
    "    magnitute = int(data2[n].split()[1])\n",
    "    if direction==\"forward\":\n",
    "        horizon += magnitute\n",
    "        depth += magnitute*aim\n",
    "    elif direction==\"up\":\n",
    "        aim -= magnitute\n",
    "    elif direction==\"down\":\n",
    "        aim += magnitute\n",
    "print(horizon, \"x\", depth, \"=\", horizon*depth)"
   ]
  },
  {
   "cell_type": "code",
   "execution_count": 2,
   "id": "2610f99e",
   "metadata": {},
   "outputs": [
    {
     "data": {
      "text/plain": [
       "'010111100100'"
      ]
     },
     "execution_count": 2,
     "metadata": {},
     "output_type": "execute_result"
    }
   ],
   "source": [
    "data3 = open('advent3_data.txt', 'r').read().split('\\n')\n",
    "#Part 1\n",
    "final=\"\"\n",
    "for number in range(12):\n",
    "    zero=0\n",
    "    one=0\n",
    "    zeroi =[]\n",
    "    onei =[]\n",
    "    for index in range(len(data3)):\n",
    "        row = str(data3[index])\n",
    "        if row[number]==\"0\" :\n",
    "            zero += 1\n",
    "            zeroi.append(index)\n",
    "        elif row[number] ==\"1\":\n",
    "            one += 1 \n",
    "            onei.append(index)\n",
    "    if zero>one:\n",
    "        final += \"0\"\n",
    "    else:\n",
    "        final +=\"1\"\n",
    "#         print(\"onei happend\")\n",
    "final"
   ]
  },
  {
   "cell_type": "code",
   "execution_count": 3,
   "id": "3c7bd94a",
   "metadata": {},
   "outputs": [
    {
     "name": "stdout",
     "output_type": "stream",
     "text": [
      "528\n",
      "268\n",
      "136\n",
      "75\n",
      "45\n",
      "24\n",
      "14\n",
      "10\n",
      "7\n",
      "4\n",
      "2\n",
      "1\n",
      "011001100111\n"
     ]
    }
   ],
   "source": [
    "#Part 2\n",
    "data3 = open('advent3_data.txt', 'r').read().split('\\n')\n",
    "indices = range(1000)\n",
    "for number in range(12):\n",
    "    zero=0\n",
    "    one=0\n",
    "    zeroi =[]\n",
    "    onei =[]\n",
    "    for index in indices:\n",
    "        if data3[index][number]==\"0\" :\n",
    "            zero += 1\n",
    "            zeroi.append(index)\n",
    "        elif data3[index][number] ==\"1\":\n",
    "            one += 1 \n",
    "            onei.append(index)\n",
    "    if zero>one:\n",
    "        indices = zeroi\n",
    "    else:\n",
    "        indices = onei\n",
    "    print(len(indices))\n",
    "    if len(indices)==1: \n",
    "        print(data3[indices[0]])\n",
    "        break"
   ]
  },
  {
   "cell_type": "code",
   "execution_count": 4,
   "id": "284c1c0a",
   "metadata": {},
   "outputs": [],
   "source": [
    "# Day 4 Bingo\n",
    "bingo = open('data4_2021.txt', 'r').read().split('\\n\\n')"
   ]
  },
  {
   "cell_type": "code",
   "execution_count": 5,
   "id": "7f584ece",
   "metadata": {},
   "outputs": [],
   "source": [
    "def most_frequent(List):\n",
    "    dict = {}\n",
    "    count, itm = 0, ''\n",
    "    for item in reversed(List):\n",
    "        dict[item] = dict.get(item, 0) + 1\n",
    "        if dict[item] >= count :\n",
    "            count, itm = dict[item], item\n",
    "    return(itm)"
   ]
  },
  {
   "cell_type": "code",
   "execution_count": 6,
   "id": "844e61bf",
   "metadata": {},
   "outputs": [],
   "source": [
    "def calculate_bingo_score(bingo_number, board_index, stopping_point):\n",
    "    total =0\n",
    "    for line in boards[board_index].split(\"\\n\"):\n",
    "        for cell in line.split():\n",
    "            if cell not in ordered_calls[:stopping_point+1]:\n",
    "                total += int(cell)\n",
    "    return total*bingo_number"
   ]
  },
  {
   "cell_type": "code",
   "execution_count": 7,
   "id": "d9f1094c",
   "metadata": {},
   "outputs": [
    {
     "name": "stdout",
     "output_type": "stream",
     "text": [
      "38913\n"
     ]
    }
   ],
   "source": [
    "# find lowest/fastest board to reach bingo\n",
    "ordered_calls = bingo[0].split(\",\")\n",
    "\n",
    "lowest_number = len(ordered_calls)\n",
    "\n",
    "boards = bingo[1:]\n",
    "current_lowest_board = \"\"\n",
    "bingo_number =\"\"\n",
    "\n",
    "for board_num, board in enumerate(boards):\n",
    "    found = False\n",
    "    y=[]\n",
    "    x=[]\n",
    "    for i in range(lowest_number):\n",
    "        called = ordered_calls[i]\n",
    "        for row, line in enumerate(board.split(\"\\n\")):\n",
    "            for col, cell in enumerate(line.split()):\n",
    "                if cell==called:\n",
    "                    y.append(row)\n",
    "                    x.append(col)\n",
    "                if x.count(most_frequent(x))>=5 or y.count(most_frequent(y))>=5:\n",
    "                    found=True\n",
    "                    lowest_number = i\n",
    "                    current_lowest_board = board_num\n",
    "                    bingo_number = called\n",
    "                    break\n",
    "            if found: break\n",
    "        if found: break\n",
    "            \n",
    "                        \n",
    "print(calculate_bingo_score(int(bingo_number),int(current_lowest_board),lowest_number))"
   ]
  },
  {
   "cell_type": "code",
   "execution_count": 8,
   "id": "d9c52c86",
   "metadata": {},
   "outputs": [
    {
     "name": "stdout",
     "output_type": "stream",
     "text": [
      "16836\n"
     ]
    }
   ],
   "source": [
    "# find highest/last board to reach bingo\n",
    "highest_number = -1\n",
    "current_highest_board = \"\"\n",
    "bingo_number =\"\"\n",
    "\n",
    "for board_num, board in enumerate(boards):\n",
    "    found = False\n",
    "    y=[]\n",
    "    x=[]\n",
    "    for i in range(len(boards)):\n",
    "        called = ordered_calls[i]\n",
    "        for row, line in enumerate(board.split(\"\\n\")):\n",
    "            for col, cell in enumerate(line.split()):\n",
    "                if cell==called:\n",
    "                    y.append(row)\n",
    "                    x.append(col)\n",
    "                if x.count(most_frequent(x))>=5 or y.count(most_frequent(y))>=5:\n",
    "                    found=True\n",
    "                    if i>highest_number:\n",
    "                        highest_number = i\n",
    "                        current_highest_board = board_num\n",
    "                        bingo_number = called\n",
    "                    break\n",
    "            if found: break\n",
    "        if found: break\n",
    "      \n",
    "    \n",
    "print(calculate_bingo_score(int(bingo_number),int(current_highest_board),highest_number))"
   ]
  },
  {
   "cell_type": "code",
   "execution_count": 9,
   "id": "7381001a",
   "metadata": {},
   "outputs": [],
   "source": [
    "def bingo_lists():\n",
    "    attempts_needed=[]\n",
    "    winning_bingo_numbers=[]\n",
    "\n",
    "    for board_num, board in enumerate(boards):\n",
    "        found = False\n",
    "        y=[]\n",
    "        x=[]\n",
    "        for i in range(len(boards)):\n",
    "            called = ordered_calls[i]\n",
    "            for row, line in enumerate(board.split(\"\\n\")):\n",
    "                for col, cell in enumerate(line.split()):\n",
    "                    if cell==called:\n",
    "                        y.append(row)\n",
    "                        x.append(col)\n",
    "                    if x.count(most_frequent(x))>=5 or y.count(most_frequent(y))>=5:\n",
    "                        found=True\n",
    "                        attempts_needed.append(i)\n",
    "                        winning_bingo_numbers.append(called)\n",
    "                        break\n",
    "                if found: break\n",
    "            if found: break\n",
    "    return attempts_needed, winning_bingo_numbers"
   ]
  },
  {
   "cell_type": "code",
   "execution_count": 10,
   "id": "421e81b7",
   "metadata": {},
   "outputs": [
    {
     "name": "stdout",
     "output_type": "stream",
     "text": [
      "38913\n",
      "16836\n"
     ]
    }
   ],
   "source": [
    "attempts, bingo_numbers = bingo_lists()\n",
    "\n",
    "min_attempts = min(attempts)\n",
    "min_board_index = attempts.index(min_attempts)\n",
    "min_board_bingo_num = bingo_numbers[min_board_index]\n",
    "print(calculate_bingo_score(int(min_board_bingo_num),min_board_index,min_attempts))\n",
    "\n",
    "max_attempts = max(attempts)\n",
    "max_board_index = attempts.index(max_attempts)\n",
    "max_board_bingo_num = bingo_numbers[max_board_index]\n",
    "print(calculate_bingo_score(int(max_board_bingo_num),max_board_index,max_attempts))"
   ]
  },
  {
   "cell_type": "code",
   "execution_count": 11,
   "id": "1afa0b6e",
   "metadata": {},
   "outputs": [],
   "source": [
    "#Day 5, vents/lines/avoid duplicate coordinates\n",
    "vents = open('data5_2021.txt', 'r').read().split('\\n')\n",
    "\n",
    "vents_example =\"\"\"0,9 -> 5,9\n",
    "8,0 -> 0,8\n",
    "9,4 -> 3,4\n",
    "2,2 -> 2,1\n",
    "7,0 -> 7,4\n",
    "6,4 -> 2,0\n",
    "0,9 -> 2,9\n",
    "3,4 -> 1,4\n",
    "0,0 -> 8,8\n",
    "5,5 -> 8,2\"\"\".split(\"\\n\")"
   ]
  },
  {
   "cell_type": "code",
   "execution_count": 12,
   "id": "b9c0f8fd",
   "metadata": {},
   "outputs": [],
   "source": [
    "def mark_coordinates(vents_data):\n",
    "    all_coordinates = list() # includes duplicates, which is what we're looking for\n",
    "    for v in vents_data:\n",
    "        start = v.split(\"->\")[0].split(\",\")\n",
    "        end = v.split(\"->\")[1].split(\",\")\n",
    "        x1 = int(start[0])\n",
    "        y1 = int(start[1])\n",
    "        x2 = int(end[0])\n",
    "        y2 = int(end[1])\n",
    "        minx = min([x1,x2])\n",
    "        miny = min([y1,y2])\n",
    "        maxx = max([x1,x2])\n",
    "        maxy = max([y1,y2])\n",
    "        diag_dist=maxx-minx # or maxy-miny since the 2 have same results\n",
    "#turned coors into strings bc otherwise, they cannot be compared (regarding equality, later)\n",
    "        if y1==y2:\n",
    "            for i in range(maxx-minx+1): # +1 to include the end coor\n",
    "                all_coordinates.append(str(minx+i)+\":\"+str(y1))\n",
    "        elif x1==x2:\n",
    "            for i in range(maxy-miny+1):\n",
    "                all_coordinates.append(str(x1)+\":\"+str(miny+i))\n",
    "    # Part 2 addition (4 elifs bc of 4 different diag possibilities) below\n",
    "        elif x1==minx and y1==miny:\n",
    "            for i in range(diag_dist+1):\n",
    "                all_coordinates.append(str(x1+i)+\":\"+str(y1+i))    \n",
    "        elif x1==minx and y2==miny:\n",
    "            for i in range(diag_dist+1):\n",
    "                all_coordinates.append(str(x1+i)+\":\"+str(y1-i))\n",
    "        elif x2==minx and y1==miny:\n",
    "            for i in range(diag_dist+1):\n",
    "                all_coordinates.append(str(x1-i)+\":\"+str(y1+i))    \n",
    "        elif x2==minx and y2==miny:\n",
    "            for i in range(diag_dist+1):\n",
    "                all_coordinates.append(str(x1-i)+\":\"+str(y1-i))\n",
    "\n",
    "    print(\"Number of coordinates marked:\", len(all_coordinates))\n",
    "    unique_coordinates = set(all_coordinates)\n",
    "    print(\"Number of unique coordinates marked:\", len(unique_coordinates))\n",
    "    return all_coordinates, unique_coordinates"
   ]
  },
  {
   "cell_type": "code",
   "execution_count": 13,
   "id": "7527a258",
   "metadata": {},
   "outputs": [
    {
     "name": "stdout",
     "output_type": "stream",
     "text": [
      "Number of coordinates marked: 183432\n",
      "Number of unique coordinates marked: 163289\n",
      "Number of duplicate coordinates: 17741\n"
     ]
    }
   ],
   "source": [
    "#method 1, slow\n",
    "all_coor, uniques = mark_coordinates(vents)\n",
    "for unique_coor in uniques:\n",
    "    all_coor.remove(unique_coor)\n",
    "print(\"Number of duplicate coordinates:\", len(set(all_coor)))"
   ]
  },
  {
   "cell_type": "code",
   "execution_count": 14,
   "id": "37c5a84d",
   "metadata": {},
   "outputs": [
    {
     "name": "stdout",
     "output_type": "stream",
     "text": [
      "Number of coordinates marked: 53\n",
      "Number of unique coordinates marked: 39\n"
     ]
    },
    {
     "data": {
      "text/plain": [
       "12"
      ]
     },
     "execution_count": 14,
     "metadata": {},
     "output_type": "execute_result"
    }
   ],
   "source": [
    "#method 2, slower, uses provided mini example instead\n",
    "all_coor, uniques = mark_coordinates(vents_example)\n",
    "total = 0\n",
    "for unique_coor in uniques:\n",
    "    if all_coor.count(unique_coor)>1:\n",
    "        total+=1\n",
    "total"
   ]
  },
  {
   "cell_type": "code",
   "execution_count": 15,
   "id": "1829010f",
   "metadata": {},
   "outputs": [
    {
     "name": "stdout",
     "output_type": "stream",
     "text": [
      "Number of coordinates marked: 53\n",
      "Number of unique coordinates marked: 39\n"
     ]
    },
    {
     "data": {
      "text/plain": [
       "12"
      ]
     },
     "execution_count": 15,
     "metadata": {},
     "output_type": "execute_result"
    }
   ],
   "source": [
    "#method 3, slowest, again uses provided mini example\n",
    "all_coor, uniques = mark_coordinates(vents_example)\n",
    "total = 0\n",
    "max_elem = most_frequent(all_coor)\n",
    "max_count = all_coor.count(max_elem)\n",
    "while max_count>1:\n",
    "    total +=1\n",
    "    for i in range(max_count):\n",
    "        all_coor.remove(max_elem)\n",
    "    max_elem = most_frequent(all_coor)\n",
    "    max_count = all_coor.count(max_elem)\n",
    "total"
   ]
  },
  {
   "cell_type": "code",
   "execution_count": 16,
   "id": "3dff0ed6",
   "metadata": {},
   "outputs": [
    {
     "data": {
      "text/plain": [
       "[['z', 'Y', 'Y', 'Y', 'Y'],\n",
       " ['z', 'Y', 'Y', 'Y', 'Y'],\n",
       " ['z', 'Y', 'Y', 'Y', 'Y'],\n",
       " ['z', 'Y', 'Y', 'Y', 'Y'],\n",
       " ['z', 'Y', 'Y', 'Y', 'Y']]"
      ]
     },
     "execution_count": 16,
     "metadata": {},
     "output_type": "execute_result"
    }
   ],
   "source": [
    "bingo_board = [[\"Y\"]*5]*5\n",
    "bingo_board[0][0]=\"z\"\n",
    "bingo_board"
   ]
  }
 ],
 "metadata": {
  "kernelspec": {
   "display_name": "Python 3",
   "language": "python",
   "name": "python3"
  },
  "language_info": {
   "codemirror_mode": {
    "name": "ipython",
    "version": 3
   },
   "file_extension": ".py",
   "mimetype": "text/x-python",
   "name": "python",
   "nbconvert_exporter": "python",
   "pygments_lexer": "ipython3",
   "version": "3.8.8"
  }
 },
 "nbformat": 4,
 "nbformat_minor": 5
}
