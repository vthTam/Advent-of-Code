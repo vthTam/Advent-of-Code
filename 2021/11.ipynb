{
  "nbformat": 4,
  "nbformat_minor": 0,
  "metadata": {
    "colab": {
      "name": "11.ipynb",
      "provenance": [],
      "collapsed_sections": []
    },
    "kernelspec": {
      "name": "python3",
      "display_name": "Python 3"
    },
    "language_info": {
      "name": "python"
    }
  },
  "cells": [
    {
      "cell_type": "code",
      "execution_count": 2,
      "metadata": {
        "id": "lF1N_WAC3JCg"
      },
      "outputs": [],
      "source": [
        "input = \"\"\"7232374314\n",
        "8531113786\n",
        "3411787828\n",
        "5482241344\n",
        "5856827742\n",
        "7614532764\n",
        "5311321758\n",
        "1255116187\n",
        "5821277714\n",
        "2623834788\"\"\".splitlines()"
      ]
    },
    {
      "cell_type": "code",
      "source": [
        "#Part 1\n",
        "\n",
        "lines = [[int(x) for x in r] for r in input]\n",
        "\n",
        "flash = 0\n",
        "\n",
        "for step in range(100):\n",
        "  for r, line in enumerate(lines):\n",
        "    for c, octo in enumerate(line):\n",
        "      lines[r][c] += 1 \n",
        "\n",
        "  while(True):\n",
        "    finished = True\n",
        "    for r, line in enumerate(lines):\n",
        "      for c, octo in enumerate(line):\n",
        "        if octo>9:\n",
        "          finished = False\n",
        "          lines[r][c] = -9\n",
        "          right = len(line)-1\n",
        "          bottom = len(lines)-1\n",
        "          if bottom>r:\n",
        "            lines[r+1][c] += 1 \n",
        "          if r>0:\n",
        "            lines[r-1][c] += 1 \n",
        "          if right>c:\n",
        "            lines[r][c+1] += 1 \n",
        "          if c>0:\n",
        "            lines[r][c-1] += 1 \n",
        "          if bottom>r and right>c:\n",
        "            lines[r+1][c+1] += 1 \n",
        "          if r>0 and c>0:\n",
        "            lines[r-1][c-1] += 1  \n",
        "          if bottom>r and c>0:\n",
        "            lines[r+1][c-1] += 1 \n",
        "          if r>0 and right>c:\n",
        "            lines[r-1][c+1] += 1  \n",
        "\n",
        "    if finished:\n",
        "      break\n",
        "  count = 0\n",
        "  for r, line in enumerate(lines):\n",
        "    for c, octo in enumerate(line):\n",
        "      if octo<0:\n",
        "        count += 1\n",
        "        flash += 1 \n",
        "        lines[r][c] = 0\n",
        "  \n",
        "print(flash)\n",
        "lines"
      ],
      "metadata": {
        "colab": {
          "base_uri": "https://localhost:8080/"
        },
        "id": "WGhiru93hJYS",
        "outputId": "eed25d7c-50c3-465c-c15f-54e701e72d32"
      },
      "execution_count": 4,
      "outputs": [
        {
          "output_type": "stream",
          "name": "stdout",
          "text": [
            "1757\n"
          ]
        },
        {
          "output_type": "execute_result",
          "data": {
            "text/plain": [
              "[[2, 0, 0, 0, 0, 2, 1, 1, 2, 0],\n",
              " [4, 6, 0, 0, 4, 2, 1, 1, 2, 6],\n",
              " [2, 3, 5, 3, 2, 1, 1, 1, 1, 5],\n",
              " [2, 2, 3, 5, 1, 8, 8, 1, 1, 6],\n",
              " [2, 2, 2, 3, 8, 5, 5, 7, 1, 1],\n",
              " [2, 2, 2, 2, 7, 4, 4, 5, 8, 2],\n",
              " [2, 2, 2, 2, 7, 4, 4, 5, 8, 0],\n",
              " [7, 2, 2, 2, 7, 4, 5, 7, 0, 0],\n",
              " [5, 7, 2, 2, 7, 5, 7, 0, 0, 0],\n",
              " [4, 5, 7, 2, 6, 5, 0, 0, 0, 0]]"
            ]
          },
          "metadata": {},
          "execution_count": 4
        }
      ]
    },
    {
      "cell_type": "code",
      "source": [
        "#Part 2\n",
        "\n",
        "lines = [[int(x) for x in r] for r in input]\n",
        "flash = 0\n",
        "step = 0\n",
        "while(True):\n",
        "  step += 1\n",
        "  for r, line in enumerate(lines):\n",
        "    for c, octo in enumerate(line):\n",
        "      lines[r][c] += 1 \n",
        "\n",
        "  while(True):\n",
        "    finished = True\n",
        "    for r, line in enumerate(lines):\n",
        "      for c, octo in enumerate(line):\n",
        "        if octo>9:\n",
        "          finished = False\n",
        "          lines[r][c] = -9\n",
        "          right = len(line)-1\n",
        "          bottom = len(lines)-1\n",
        "          if bottom>r:\n",
        "            lines[r+1][c] += 1 \n",
        "          if r>0:\n",
        "            lines[r-1][c] += 1 \n",
        "          if right>c:\n",
        "            lines[r][c+1] += 1 \n",
        "          if c>0:\n",
        "            lines[r][c-1] += 1 \n",
        "          if bottom>r and right>c:\n",
        "            lines[r+1][c+1] += 1 \n",
        "          if r>0 and c>0:\n",
        "            lines[r-1][c-1] += 1  \n",
        "          if bottom>r and c>0:\n",
        "            lines[r+1][c-1] += 1 \n",
        "          if r>0 and right>c:\n",
        "            lines[r-1][c+1] += 1  \n",
        "\n",
        "    if finished:\n",
        "      break\n",
        "  \n",
        "  allFlashing = True\n",
        "  for r, line in enumerate(lines):\n",
        "    for c, octo in enumerate(line):\n",
        "      if octo<0:\n",
        "        flash += 1\n",
        "        lines[r][c] = 0\n",
        "      else:\n",
        "        allFlashing = False\n",
        "  \n",
        "  if allFlashing:\n",
        "    break\n",
        "\n",
        "  if step==100:\n",
        "    print(\"Part 1, number of flashes after 100 steps:\", flash)\n",
        "\n",
        "print(\"Part 2, steps required for all octo to flash at once:\", step)"
      ],
      "metadata": {
        "colab": {
          "base_uri": "https://localhost:8080/"
        },
        "id": "08Bmg6vM3LS5",
        "outputId": "f970393f-988a-48ea-e256-494e859b2bd1"
      },
      "execution_count": 7,
      "outputs": [
        {
          "output_type": "stream",
          "name": "stdout",
          "text": [
            "Part 1, number of flashes after 100 steps: 1757\n",
            "Part 2, steps required for all octo to flash at once: 422\n"
          ]
        }
      ]
    }
  ]
}