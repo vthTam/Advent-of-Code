{
 "cells": [
  {
   "cell_type": "code",
   "execution_count": 1,
   "id": "8f3859bf",
   "metadata": {},
   "outputs": [],
   "source": [
    "#Day 7, whales\n",
    "whales = open('data7.txt', 'r').read().split(\",\")\n",
    "positions = []\n",
    "for w in whales:\n",
    "    positions.append(int(w))"
   ]
  },
  {
   "cell_type": "code",
   "execution_count": 2,
   "id": "b3106ea7",
   "metadata": {},
   "outputs": [
    {
     "name": "stdout",
     "output_type": "stream",
     "text": [
      "lowest fuel: 92881128.0\n"
     ]
    }
   ],
   "source": [
    "lowest = float(\"inf\") # infinity/max float\n",
    "# positions = [16,1,2,0,4,2,7,1,2,14] #example input\n",
    "for mid in range(max(positions)+1):\n",
    "    total = 0\n",
    "    for number in positions:\n",
    "        addition = abs(number-mid) # Part 1 is just: total += addition\n",
    "        total+= addition*(addition+1)/2 # faster than adding each by each\n",
    "#         total+= sum(range(1,addition+1)) # this is a much slower way\n",
    "#     print(total)\n",
    "    if total<lowest:\n",
    "        lowest = total\n",
    "        \n",
    "print(\"lowest fuel:\",lowest)"
   ]
  }
 ],
 "metadata": {
  "kernelspec": {
   "display_name": "Python 3",
   "language": "python",
   "name": "python3"
  },
  "language_info": {
   "codemirror_mode": {
    "name": "ipython",
    "version": 3
   },
   "file_extension": ".py",
   "mimetype": "text/x-python",
   "name": "python",
   "nbconvert_exporter": "python",
   "pygments_lexer": "ipython3",
   "version": "3.8.8"
  }
 },
 "nbformat": 4,
 "nbformat_minor": 5
}
